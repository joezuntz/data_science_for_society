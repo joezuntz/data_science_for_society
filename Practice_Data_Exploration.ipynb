{
 "cells": [
  {
   "cell_type": "markdown",
   "id": "wireless-tumor",
   "metadata": {},
   "source": [
    "# Practice Data Exploration\n",
    "\n",
    "---\n",
    "\n",
    "You can use this notebook to practise the kind of data exploration you will do in the intensive phase of the course. This is not assessed, but we strongly encourage you to have a go at it, and you are welcome to ask questions about it in the Teams chat.\n",
    "\n",
    "The general type of data we are supplying here is in the same vein to the ones you will use in the assessed intensive phase.\n",
    "\n",
    "---\n",
    "\n",
    "## Data Set\n",
    "\n",
    "\n",
    "Your data set is [BP's Statistical Review of World Energy for 2021](https://www.bp.com/en/global/corporate/energy-economics/statistical-review-of-world-energy.html).  You can find background information at that link, and on the [introductory PDF](https://www.bp.com/content/dam/bp/business-sites/en/global/corporate/pdfs/energy-economics/statistical-review/bp-stats-review-2021-full-report.pdf), which also explains what the various columns mean.\n",
    "\n",
    "---\n",
    "\n",
    "## Setup libraries"
   ]
  },
  {
   "cell_type": "code",
   "execution_count": null,
   "id": "serious-bidder",
   "metadata": {},
   "outputs": [],
   "source": [
    "%pylab inline\n",
    "import pandas as pd\n",
    "import geopandas as gpd"
   ]
  },
  {
   "cell_type": "markdown",
   "id": "searching-manufacturer",
   "metadata": {},
   "source": [
    "---\n",
    "### Load the data\n",
    "\n",
    "We load a pandas data frame and (in case it's useful) a shape file of modern-day world borders.\n",
    "\n",
    "Note that:\n",
    "- some countries have changed name and/or ceased or started to exist since the start of the data period\n",
    "- there are columns for world and regional total.\n",
    "\n",
    "These kind of \"gotchas\" are central to practical data exploration."
   ]
  },
  {
   "cell_type": "code",
   "execution_count": null,
   "id": "embedded-blood",
   "metadata": {},
   "outputs": [],
   "source": [
    "df = pd.read_csv(\"data/bp-stats-review-2021-consolidated-dataset-panel-format.csv\")\n",
    "borders = gpd.read_file(\"data/world_borders.geo.json\")"
   ]
  },
  {
   "cell_type": "markdown",
   "id": "occasional-showcase",
   "metadata": {},
   "source": [
    "---\n",
    "\n",
    "### Possible Questions\n",
    "\n",
    "As in the intensive phase, you can explore the data in any direction you like, and find any kind of results or visualizations. These questions might give you some inspiration.\n",
    "\n",
    "- How has the total world consumption of energy shifted geographically over time?\n",
    "- How as the percentage of world energy production from different sources changed with time?\n",
    "- Can you visualize which countries produce most and least fraction of their energy from renewable sources?\n"
   ]
  },
  {
   "cell_type": "code",
   "execution_count": null,
   "id": "western-missouri",
   "metadata": {},
   "outputs": [],
   "source": []
  },
  {
   "cell_type": "code",
   "execution_count": null,
   "id": "advisory-strand",
   "metadata": {},
   "outputs": [],
   "source": []
  },
  {
   "cell_type": "code",
   "execution_count": null,
   "id": "integral-might",
   "metadata": {},
   "outputs": [],
   "source": []
  },
  {
   "cell_type": "code",
   "execution_count": null,
   "id": "daily-confidence",
   "metadata": {},
   "outputs": [],
   "source": []
  }
 ],
 "metadata": {
  "kernelspec": {
   "display_name": "Python 3",
   "language": "python",
   "name": "python3"
  },
  "language_info": {
   "codemirror_mode": {
    "name": "ipython",
    "version": 3
   },
   "file_extension": ".py",
   "mimetype": "text/x-python",
   "name": "python",
   "nbconvert_exporter": "python",
   "pygments_lexer": "ipython3",
   "version": "3.9.2"
  }
 },
 "nbformat": 4,
 "nbformat_minor": 5
}
